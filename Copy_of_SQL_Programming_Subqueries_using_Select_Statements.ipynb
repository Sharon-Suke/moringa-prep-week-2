{
  "nbformat": 4,
  "nbformat_minor": 0,
  "metadata": {
    "colab": {
      "name": "Copy of SQL Programming -  Subqueries using Select Statements",
      "provenance": [],
      "toc_visible": true
    },
    "kernelspec": {
      "display_name": "Python 3",
      "name": "python3"
    }
  },
  "cells": [
    {
      "cell_type": "markdown",
      "metadata": {
        "id": "v7SpgjvSlIoR"
      },
      "source": [
        "<font color=\"green\">*To start working on this notebook, or any other notebook that we will use in the Moringa Data Science Course, we will need to save our own copy of it. We can do this by clicking File > Save a Copy in Drive. We will then be able to make edits to our own copy of this notebook.*</font>"
      ]
    },
    {
      "cell_type": "markdown",
      "metadata": {
        "id": "LtFx0bBdlL-n"
      },
      "source": [
        "# SQL Programming - Subqueries using Select Statements"
      ]
    },
    {
      "cell_type": "markdown",
      "metadata": {
        "id": "mlCS9-zslSwf"
      },
      "source": [
        "## 1.0 Connecting to our Database"
      ]
    },
    {
      "cell_type": "code",
      "metadata": {
        "colab": {
          "base_uri": "https://localhost:8080/",
          "height": 72
        },
        "id": "cEeocMxvnZwS",
        "outputId": "749c43f5-341b-4b3c-8661-f21ccd93a85d"
      },
      "source": [
        "# We will first load the sql extension into our environment\n",
        "%load_ext sql\n",
        "\n",
        "# Then connect to our in memory sqlite database\n",
        "# NB: This database will cease to exist as soon as the database connection is closed. \n",
        "%sql sqlite://"
      ],
      "execution_count": null,
      "outputs": [
        {
          "output_type": "stream",
          "text": [
            "The sql extension is already loaded. To reload it, use:\n",
            "  %reload_ext sql\n"
          ],
          "name": "stdout"
        },
        {
          "output_type": "execute_result",
          "data": {
            "application/vnd.google.colaboratory.intrinsic+json": {
              "type": "string"
            },
            "text/plain": [
              "'Connected: @None'"
            ]
          },
          "metadata": {
            "tags": []
          },
          "execution_count": 2
        }
      ]
    },
    {
      "cell_type": "markdown",
      "metadata": {
        "id": "lLI1zQYqlVlt"
      },
      "source": [
        "## 1.1 Loading Data from CSV Files"
      ]
    },
    {
      "cell_type": "markdown",
      "metadata": {
        "id": "tNUsWoeTWn_f"
      },
      "source": [
        "Datasets used in this notebook:\n",
        "\n",
        "\n",
        "1.   **World Countries**\n",
        "\n",
        "> ([Dataset Download Link](https://drive.google.com/a/moringaschool.com/file/d/1XlabneVWhvbmpRUi_Wix2FR5uYAAp-ZY/view?usp=sharing))\n",
        "\n",
        "2.   **World Cities** \n",
        "\n",
        "> ([Dataset Download Link](https://drive.google.com/a/moringaschool.com/file/d/1R5952m-8hH91uiwDK8dcL9sT2D_PEcuw/view?usp=sharing))\n",
        "\n",
        "\n",
        "\n",
        "\n"
      ]
    },
    {
      "cell_type": "code",
      "metadata": {
        "id": "jryiwN6GiqoT"
      },
      "source": [
        "# Importing Pandas\n",
        "import pandas as pd"
      ],
      "execution_count": null,
      "outputs": []
    },
    {
      "cell_type": "code",
      "metadata": {
        "colab": {
          "base_uri": "https://localhost:8080/",
          "height": 199
        },
        "id": "gnuy0grfirgn",
        "outputId": "c63a2d6e-792f-4320-863a-8d53a0e0b3c3"
      },
      "source": [
        "# Loading our world_countries from the respective CSV file \n",
        "with open('world_countries.csv','r') as f:\n",
        "    world_countries = pd.read_csv(f, index_col=0, encoding='utf-8')\n",
        "#%sql DROP TABLE if EXISTS world_countries;\n",
        "%sql PERSIST world_countries;\n",
        "%sql SELECT * FROM world_countries LIMIT 5;"
      ],
      "execution_count": null,
      "outputs": [
        {
          "output_type": "stream",
          "text": [
            " * sqlite://\n",
            " * sqlite://\n",
            "Done.\n"
          ],
          "name": "stdout"
        },
        {
          "output_type": "execute_result",
          "data": {
            "text/html": [
              "<table>\n",
              "    <thead>\n",
              "        <tr>\n",
              "            <th>country</th>\n",
              "            <th>population</th>\n",
              "            <th>EU</th>\n",
              "            <th>coastline</th>\n",
              "        </tr>\n",
              "    </thead>\n",
              "    <tbody>\n",
              "        <tr>\n",
              "            <td>Albania</td>\n",
              "            <td>2.9</td>\n",
              "            <td>no</td>\n",
              "            <td>yes</td>\n",
              "        </tr>\n",
              "        <tr>\n",
              "            <td>Andorra</td>\n",
              "            <td>0.07</td>\n",
              "            <td>no</td>\n",
              "            <td>no</td>\n",
              "        </tr>\n",
              "        <tr>\n",
              "            <td>Austria</td>\n",
              "            <td>8.57</td>\n",
              "            <td>yes</td>\n",
              "            <td>no</td>\n",
              "        </tr>\n",
              "        <tr>\n",
              "            <td>Belarus</td>\n",
              "            <td>9.48</td>\n",
              "            <td>no</td>\n",
              "            <td>no</td>\n",
              "        </tr>\n",
              "        <tr>\n",
              "            <td>Belgium</td>\n",
              "            <td>11.37</td>\n",
              "            <td>yes</td>\n",
              "            <td>yes</td>\n",
              "        </tr>\n",
              "    </tbody>\n",
              "</table>"
            ],
            "text/plain": [
              "[('Albania', 2.9, 'no', 'yes'),\n",
              " ('Andorra', 0.07, 'no', 'no'),\n",
              " ('Austria', 8.57, 'yes', 'no'),\n",
              " ('Belarus', 9.48, 'no', 'no'),\n",
              " ('Belgium', 11.37, 'yes', 'yes')]"
            ]
          },
          "metadata": {
            "tags": []
          },
          "execution_count": 4
        }
      ]
    },
    {
      "cell_type": "code",
      "metadata": {
        "id": "Nl8AVi1OyUmm",
        "colab": {
          "base_uri": "https://localhost:8080/",
          "height": 199
        },
        "outputId": "ead31bf1-b7de-4ebc-bc0e-4ba26cdafef2"
      },
      "source": [
        "# Loading our world_cities from the respective CSV file \n",
        "with open('world_cities.csv','r') as f:\n",
        "    world_cities = pd.read_csv(f, index_col=0, encoding='utf-8')\n",
        "#%sql DROP TABLE if EXISTS world_cities;\n",
        "%sql PERSIST world_cities;\n",
        "%sql SELECT * FROM world_cities LIMIT 5;"
      ],
      "execution_count": null,
      "outputs": [
        {
          "output_type": "stream",
          "text": [
            " * sqlite://\n",
            " * sqlite://\n",
            "Done.\n"
          ],
          "name": "stdout"
        },
        {
          "output_type": "execute_result",
          "data": {
            "text/html": [
              "<table>\n",
              "    <thead>\n",
              "        <tr>\n",
              "            <th>city</th>\n",
              "            <th>country</th>\n",
              "            <th>latitude</th>\n",
              "            <th>longitude</th>\n",
              "            <th>temperature</th>\n",
              "        </tr>\n",
              "    </thead>\n",
              "    <tbody>\n",
              "        <tr>\n",
              "            <td>Aalborg</td>\n",
              "            <td>Denmark</td>\n",
              "            <td>57.03</td>\n",
              "            <td>9.92</td>\n",
              "            <td>7.52</td>\n",
              "        </tr>\n",
              "        <tr>\n",
              "            <td>Aberdeen</td>\n",
              "            <td>United Kingdom</td>\n",
              "            <td>57.17</td>\n",
              "            <td>-2.08</td>\n",
              "            <td>8.1</td>\n",
              "        </tr>\n",
              "        <tr>\n",
              "            <td>Abisko</td>\n",
              "            <td>Sweden</td>\n",
              "            <td>63.35</td>\n",
              "            <td>18.83</td>\n",
              "            <td>0.2</td>\n",
              "        </tr>\n",
              "        <tr>\n",
              "            <td>Adana</td>\n",
              "            <td>Turkey</td>\n",
              "            <td>36.99</td>\n",
              "            <td>35.32</td>\n",
              "            <td>18.67</td>\n",
              "        </tr>\n",
              "        <tr>\n",
              "            <td>Albacete</td>\n",
              "            <td>Spain</td>\n",
              "            <td>39.0</td>\n",
              "            <td>-1.87</td>\n",
              "            <td>12.62</td>\n",
              "        </tr>\n",
              "    </tbody>\n",
              "</table>"
            ],
            "text/plain": [
              "[('Aalborg', 'Denmark', 57.03, 9.92, 7.52),\n",
              " ('Aberdeen', 'United Kingdom', 57.17, -2.08, 8.1),\n",
              " ('Abisko', 'Sweden', 63.35, 18.83, 0.2),\n",
              " ('Adana', 'Turkey', 36.99, 35.32, 18.67),\n",
              " ('Albacete', 'Spain', 39.0, -1.87, 12.62)]"
            ]
          },
          "metadata": {
            "tags": []
          },
          "execution_count": 5
        }
      ]
    },
    {
      "cell_type": "markdown",
      "metadata": {
        "id": "LEAwY5fwleiu"
      },
      "source": [
        "## 1.2 Subqueries using the SELECT statement"
      ]
    },
    {
      "cell_type": "markdown",
      "metadata": {
        "id": "xgcGBkvuA3V0"
      },
      "source": [
        "A subquery is a query within another query. The outer query is called as main query and inner query is called as subquery. The subquery must be enclosed with parenthesis and generally executes first, and its output is used to complete the query condition for the main or outer query. We will go through examples of how subqueries can be used to answers different types of questions then later, we will use our learnings to work on the challenges."
      ]
    },
    {
      "cell_type": "code",
      "metadata": {
        "colab": {
          "base_uri": "https://localhost:8080/",
          "height": 181
        },
        "id": "--LbGFNOnbTx",
        "outputId": "e6e16b03-02cb-4e2c-f581-30b1b694a186"
      },
      "source": [
        "# Example 1\n",
        "# Subqueries can occur in the select list of the containing query\n",
        "# as shown below;\n",
        "# Let's find all countries in the Countries table with no city in the Cities table\n",
        "# \n",
        "%%sql\n",
        "SELECT country\n",
        "FROM world_countries\n",
        "WHERE NOT EXISTS (SELECT * FROM world_cities\n",
        "                  WHERE world_cities.country = world_countries.country) \n"
      ],
      "execution_count": null,
      "outputs": [
        {
          "output_type": "stream",
          "text": [
            " * sqlite://\n",
            "Done.\n"
          ],
          "name": "stdout"
        },
        {
          "output_type": "execute_result",
          "data": {
            "text/html": [
              "<table>\n",
              "    <thead>\n",
              "        <tr>\n",
              "            <th>country</th>\n",
              "        </tr>\n",
              "    </thead>\n",
              "    <tbody>\n",
              "        <tr>\n",
              "            <td>Cyprus</td>\n",
              "        </tr>\n",
              "        <tr>\n",
              "            <td>Iceland</td>\n",
              "        </tr>\n",
              "        <tr>\n",
              "            <td>Kosovo</td>\n",
              "        </tr>\n",
              "        <tr>\n",
              "            <td>Liechtenstein</td>\n",
              "        </tr>\n",
              "        <tr>\n",
              "            <td>Luxembourg</td>\n",
              "        </tr>\n",
              "    </tbody>\n",
              "</table>"
            ],
            "text/plain": [
              "[('Cyprus',), ('Iceland',), ('Kosovo',), ('Liechtenstein',), ('Luxembourg',)]"
            ]
          },
          "metadata": {
            "tags": []
          },
          "execution_count": 6
        }
      ]
    },
    {
      "cell_type": "code",
      "metadata": {
        "colab": {
          "base_uri": "https://localhost:8080/",
          "height": 76
        },
        "id": "8XqiW-Q8ndKT",
        "outputId": "53512c8a-1dd8-4cab-fad3-b160bd024b6b"
      },
      "source": [
        "# Example 2\n",
        "# Find the European countries with cities experiencing temperature > 20?\n",
        "# \n",
        "%%sql\n",
        "SELECT country\n",
        "FROM world_countries\n",
        "WHERE EU = 'yes'\n",
        "AND EXISTS (SELECT * FROM world_cities\n",
        "            WHERE world_countries.country = world_cities.country \n",
        "            AND temperature > 20);"
      ],
      "execution_count": null,
      "outputs": [
        {
          "output_type": "stream",
          "text": [
            " * sqlite://\n",
            "Done.\n"
          ],
          "name": "stdout"
        },
        {
          "output_type": "execute_result",
          "data": {
            "text/html": [
              "<table>\n",
              "    <thead>\n",
              "        <tr>\n",
              "            <th>country</th>\n",
              "        </tr>\n",
              "    </thead>\n",
              "    <tbody>\n",
              "    </tbody>\n",
              "</table>"
            ],
            "text/plain": [
              "[]"
            ]
          },
          "metadata": {
            "tags": []
          },
          "execution_count": 11
        }
      ]
    },
    {
      "cell_type": "code",
      "metadata": {
        "id": "ocuJ_kB4nd3z",
        "colab": {
          "base_uri": "https://localhost:8080/",
          "height": 97
        },
        "outputId": "50bc981e-4c7a-42b6-cfd5-60f84a4ec213"
      },
      "source": [
        "# Example 3: Method 1\n",
        "# Find the westernmost city, returning the city and longitude\n",
        "# \n",
        "%%sql\n",
        "SELECT city, longitude\n",
        "FROM world_cities C1\n",
        "WHERE NOT EXISTS (SELECT * FROM world_cities C2\n",
        "                  WHERE C2.longitude < C1.longitude)"
      ],
      "execution_count": null,
      "outputs": [
        {
          "output_type": "stream",
          "text": [
            " * sqlite://\n",
            "Done.\n"
          ],
          "name": "stdout"
        },
        {
          "output_type": "execute_result",
          "data": {
            "text/html": [
              "<table>\n",
              "    <thead>\n",
              "        <tr>\n",
              "            <th>city</th>\n",
              "            <th>longitude</th>\n",
              "        </tr>\n",
              "    </thead>\n",
              "    <tbody>\n",
              "        <tr>\n",
              "            <td>Lisbon</td>\n",
              "            <td>-9.14</td>\n",
              "        </tr>\n",
              "    </tbody>\n",
              "</table>"
            ],
            "text/plain": [
              "[('Lisbon', -9.14)]"
            ]
          },
          "metadata": {
            "tags": []
          },
          "execution_count": 12
        }
      ]
    },
    {
      "cell_type": "code",
      "metadata": {
        "id": "MQCaPcMQ5pDl",
        "colab": {
          "base_uri": "https://localhost:8080/",
          "height": 97
        },
        "outputId": "18655b3b-e175-4cfc-cdb0-23404bfd0a15"
      },
      "source": [
        "# Example 3: Method 2\n",
        "# Find the westernmost city, returning the city and longitude\n",
        "# \n",
        "%%sql\n",
        "SELECT city, longitude\n",
        "FROM world_cities\n",
        "WHERE longitude = (SELECT min(longitude) FROM world_cities)"
      ],
      "execution_count": null,
      "outputs": [
        {
          "output_type": "stream",
          "text": [
            " * sqlite://\n",
            "Done.\n"
          ],
          "name": "stdout"
        },
        {
          "output_type": "execute_result",
          "data": {
            "text/html": [
              "<table>\n",
              "    <thead>\n",
              "        <tr>\n",
              "            <th>city</th>\n",
              "            <th>longitude</th>\n",
              "        </tr>\n",
              "    </thead>\n",
              "    <tbody>\n",
              "        <tr>\n",
              "            <td>Lisbon</td>\n",
              "            <td>-9.14</td>\n",
              "        </tr>\n",
              "    </tbody>\n",
              "</table>"
            ],
            "text/plain": [
              "[('Lisbon', -9.14)]"
            ]
          },
          "metadata": {
            "tags": []
          },
          "execution_count": 13
        }
      ]
    },
    {
      "cell_type": "code",
      "metadata": {
        "id": "KL5VFl2x7kLZ",
        "colab": {
          "base_uri": "https://localhost:8080/",
          "height": 97
        },
        "outputId": "99e58248-8b39-412f-925b-76138c5f0bce"
      },
      "source": [
        "# Example 4:\n",
        "# How many cities are in the EU?\n",
        "# \n",
        "%%sql\n",
        "SELECT count()\n",
        "FROM world_cities\n",
        "WHERE country IN (SELECT country FROM world_countries WHERE EU = 'yes')"
      ],
      "execution_count": null,
      "outputs": [
        {
          "output_type": "stream",
          "text": [
            " * sqlite://\n",
            "Done.\n"
          ],
          "name": "stdout"
        },
        {
          "output_type": "execute_result",
          "data": {
            "text/html": [
              "<table>\n",
              "    <thead>\n",
              "        <tr>\n",
              "            <th>count()</th>\n",
              "        </tr>\n",
              "    </thead>\n",
              "    <tbody>\n",
              "        <tr>\n",
              "            <td>150</td>\n",
              "        </tr>\n",
              "    </tbody>\n",
              "</table>"
            ],
            "text/plain": [
              "[(150,)]"
            ]
          },
          "metadata": {
            "tags": []
          },
          "execution_count": 15
        }
      ]
    },
    {
      "cell_type": "markdown",
      "metadata": {
        "id": "d1czA9cCnfki"
      },
      "source": [
        "### <font color=\"green\">1.2 Challenges</font>"
      ]
    },
    {
      "cell_type": "code",
      "metadata": {
        "id": "BpOpH-fznpo2",
        "colab": {
          "base_uri": "https://localhost:8080/",
          "height": 97
        },
        "outputId": "e41aabed-6bd0-470f-fbbe-79a0b592000d"
      },
      "source": [
        "# Challenge 1\n",
        "# Find number of countries that have a city with latitude > 1000 (start with country list)\n",
        "# \n",
        "%%sql\n",
        "SELECT count()\n",
        "FROM world_countries\n",
        "WHERE country IN (SELECT city FROM world_cities\n",
        "            WHERE world_countries.country = world_cities.city\n",
        "            AND \"latitude\" > 1000);"
      ],
      "execution_count": null,
      "outputs": [
        {
          "output_type": "stream",
          "text": [
            " * sqlite://\n",
            "Done.\n"
          ],
          "name": "stdout"
        },
        {
          "output_type": "execute_result",
          "data": {
            "text/html": [
              "<table>\n",
              "    <thead>\n",
              "        <tr>\n",
              "            <th>count()</th>\n",
              "        </tr>\n",
              "    </thead>\n",
              "    <tbody>\n",
              "        <tr>\n",
              "            <td>0</td>\n",
              "        </tr>\n",
              "    </tbody>\n",
              "</table>"
            ],
            "text/plain": [
              "[(0,)]"
            ]
          },
          "metadata": {
            "tags": []
          },
          "execution_count": 47
        }
      ]
    },
    {
      "cell_type": "code",
      "metadata": {
        "id": "jIhUfWXlnrcK"
      },
      "source": [
        "# Challenge 2\n",
        "# Find three western most cities returning both the cities and their longitude\n",
        "#\n",
        "%%sql\n",
        "SELECT city, longitude\n",
        "FROM world_cities\n",
        "ORDER  by longitude ASC\n",
        "LIMIT 3;"
      ],
      "execution_count": null,
      "outputs": []
    },
    {
      "cell_type": "code",
      "metadata": {
        "id": "o0ACgdPAnvrF"
      },
      "source": [
        "# Challenge 3\n",
        "# Find cities with temperature is more than 50% higher than the average; \n",
        "# We will return the city, country, and temperature, ordered by descending temperature\n",
        "# Hint: avg(temperature) * 1.5\n",
        "# \n",
        "%%sql\n",
        "SELECT city, country, temperature\n",
        "FROM world_cities\n",
        "WHERE temperature > (SELECT AVG(temperature) *1.5 FROM world_cities)\n",
        "ORDER  by temperature DESC;"
      ],
      "execution_count": null,
      "outputs": []
    },
    {
      "cell_type": "code",
      "metadata": {
        "id": "fmUqjv6F6lQ0",
        "colab": {
          "base_uri": "https://localhost:8080/",
          "height": 97
        },
        "outputId": "92f3c0d4-54dc-4a8a-8f35-8b19dbac7099"
      },
      "source": [
        "# Challenge 4\n",
        "# How many cities are not in the EU and without a coastline?\n",
        "# Hint: \"not in\"\n",
        "# \n",
        "%%sql\n",
        "SELECT count()\n",
        "FROM world_cities\n",
        "WHERE country IN (SELECT country FROM world_countries\n",
        "                 WHERE EU = \"no\" AND coastline = \"no\" );"
      ],
      "execution_count": null,
      "outputs": [
        {
          "output_type": "stream",
          "text": [
            " * sqlite://\n",
            "Done.\n"
          ],
          "name": "stdout"
        },
        {
          "output_type": "execute_result",
          "data": {
            "text/html": [
              "<table>\n",
              "    <thead>\n",
              "        <tr>\n",
              "            <th>count()</th>\n",
              "        </tr>\n",
              "    </thead>\n",
              "    <tbody>\n",
              "        <tr>\n",
              "            <td>16</td>\n",
              "        </tr>\n",
              "    </tbody>\n",
              "</table>"
            ],
            "text/plain": [
              "[(16,)]"
            ]
          },
          "metadata": {
            "tags": []
          },
          "execution_count": 32
        }
      ]
    },
    {
      "cell_type": "code",
      "metadata": {
        "id": "x14dNNSB8X9_",
        "colab": {
          "base_uri": "https://localhost:8080/",
          "height": 97
        },
        "outputId": "60b2372a-286e-43ad-86b2-4e37e4040f3f"
      },
      "source": [
        "# Challenge 5\n",
        "# Find the number of countries with no coastline and a city with longitude < 10\n",
        "# \n",
        "%%sql\n",
        "SELECT count()\n",
        "FROM world_countries\n",
        "WHERE coastline = \"no\"\n",
        "AND EXISTS (SELECT * FROM world_cities\n",
        "            WHERE world_countries.country = world_cities.country\n",
        "            AND longitude < 10);"
      ],
      "execution_count": null,
      "outputs": [
        {
          "output_type": "stream",
          "text": [
            " * sqlite://\n",
            "Done.\n"
          ],
          "name": "stdout"
        },
        {
          "output_type": "execute_result",
          "data": {
            "text/html": [
              "<table>\n",
              "    <thead>\n",
              "        <tr>\n",
              "            <th>count()</th>\n",
              "        </tr>\n",
              "    </thead>\n",
              "    <tbody>\n",
              "        <tr>\n",
              "            <td>2</td>\n",
              "        </tr>\n",
              "    </tbody>\n",
              "</table>"
            ],
            "text/plain": [
              "[(2,)]"
            ]
          },
          "metadata": {
            "tags": []
          },
          "execution_count": 43
        }
      ]
    },
    {
      "cell_type": "code",
      "metadata": {
        "id": "Z_AeMRdD82F8",
        "colab": {
          "base_uri": "https://localhost:8080/",
          "height": 181
        },
        "outputId": "73ebc48e-849c-4b1e-86d9-5d1bd978199b"
      },
      "source": [
        "# Challenge 6\n",
        "# Find countries in Countries table with no city in Cities table\n",
        "# \n",
        "%%sql\n",
        "SELECT country\n",
        "FROM world_countries\n",
        "WHERE NOT EXISTS (SELECT * FROM world_cities\n",
        "            WHERE world_countries.country = world_cities.country);"
      ],
      "execution_count": null,
      "outputs": [
        {
          "output_type": "stream",
          "text": [
            " * sqlite://\n",
            "Done.\n"
          ],
          "name": "stdout"
        },
        {
          "output_type": "execute_result",
          "data": {
            "text/html": [
              "<table>\n",
              "    <thead>\n",
              "        <tr>\n",
              "            <th>country</th>\n",
              "        </tr>\n",
              "    </thead>\n",
              "    <tbody>\n",
              "        <tr>\n",
              "            <td>Cyprus</td>\n",
              "        </tr>\n",
              "        <tr>\n",
              "            <td>Iceland</td>\n",
              "        </tr>\n",
              "        <tr>\n",
              "            <td>Kosovo</td>\n",
              "        </tr>\n",
              "        <tr>\n",
              "            <td>Liechtenstein</td>\n",
              "        </tr>\n",
              "        <tr>\n",
              "            <td>Luxembourg</td>\n",
              "        </tr>\n",
              "    </tbody>\n",
              "</table>"
            ],
            "text/plain": [
              "[('Cyprus',), ('Iceland',), ('Kosovo',), ('Liechtenstein',), ('Luxembourg',)]"
            ]
          },
          "metadata": {
            "tags": []
          },
          "execution_count": 11
        }
      ]
    },
    {
      "cell_type": "code",
      "metadata": {
        "id": "4dW5nRzi9atc"
      },
      "source": [
        "# Challenge 7\n",
        "# Find all cities in a country whose population is < 2, returning the city and country.\n",
        "# \n",
        "%%sql\n",
        "SELECT city, country\n",
        "FROM world_cities\n",
        "WHERE country IN (SELECT country FROM world_countries\n",
        "              WHERE world_cities.country = world_countries.country\n",
        "              AND population < 2);"
      ],
      "execution_count": null,
      "outputs": []
    },
    {
      "cell_type": "code",
      "metadata": {
        "id": "rZCO_07d9n9G",
        "colab": {
          "base_uri": "https://localhost:8080/",
          "height": 265
        },
        "outputId": "b80b3ae4-413e-42db-e833-3aa8e8849c8d"
      },
      "source": [
        "# Challenge 8\n",
        "# Find all countries with no city having a temperature > 6\n",
        "# \n",
        "%%sql\n",
        "SELECT country\n",
        "FROM world_countries\n",
        "WHERE NOT EXISTS (SELECT * FROM world_cities\n",
        "            WHERE world_countries.country = world_cities.country\n",
        "            AND temperature > 6);"
      ],
      "execution_count": null,
      "outputs": [
        {
          "output_type": "stream",
          "text": [
            " * sqlite://\n",
            "Done.\n"
          ],
          "name": "stdout"
        },
        {
          "output_type": "execute_result",
          "data": {
            "text/html": [
              "<table>\n",
              "    <thead>\n",
              "        <tr>\n",
              "            <th>country</th>\n",
              "        </tr>\n",
              "    </thead>\n",
              "    <tbody>\n",
              "        <tr>\n",
              "            <td>Cyprus</td>\n",
              "        </tr>\n",
              "        <tr>\n",
              "            <td>Estonia</td>\n",
              "        </tr>\n",
              "        <tr>\n",
              "            <td>Finland</td>\n",
              "        </tr>\n",
              "        <tr>\n",
              "            <td>Iceland</td>\n",
              "        </tr>\n",
              "        <tr>\n",
              "            <td>Kosovo</td>\n",
              "        </tr>\n",
              "        <tr>\n",
              "            <td>Latvia</td>\n",
              "        </tr>\n",
              "        <tr>\n",
              "            <td>Liechtenstein</td>\n",
              "        </tr>\n",
              "        <tr>\n",
              "            <td>Luxembourg</td>\n",
              "        </tr>\n",
              "        <tr>\n",
              "            <td>Norway</td>\n",
              "        </tr>\n",
              "    </tbody>\n",
              "</table>"
            ],
            "text/plain": [
              "[('Cyprus',),\n",
              " ('Estonia',),\n",
              " ('Finland',),\n",
              " ('Iceland',),\n",
              " ('Kosovo',),\n",
              " ('Latvia',),\n",
              " ('Liechtenstein',),\n",
              " ('Luxembourg',),\n",
              " ('Norway',)]"
            ]
          },
          "metadata": {
            "tags": []
          },
          "execution_count": 15
        }
      ]
    }
  ]
}